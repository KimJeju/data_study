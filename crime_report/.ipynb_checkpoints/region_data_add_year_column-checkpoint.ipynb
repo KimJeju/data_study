{
 "cells": [
  {
   "cell_type": "code",
   "execution_count": 84,
   "id": "84c12642-4bb2-4b8c-88d0-cb94b2eec3d1",
   "metadata": {},
   "outputs": [],
   "source": [
    "import pandas as pd"
   ]
  },
  {
   "cell_type": "code",
   "execution_count": 85,
   "id": "cc0f8212-7bb6-4a94-bea9-cb955d991251",
   "metadata": {},
   "outputs": [],
   "source": [
    "df = pd.read_csv(\"./csv/crime_generation_avg_2018.csv\")"
   ]
  },
  {
   "cell_type": "code",
   "execution_count": 86,
   "id": "f3b2d4f0-f8d3-450f-895d-c85dae89a0fc",
   "metadata": {},
   "outputs": [],
   "source": [
    "df['year'] = 2018"
   ]
  },
  {
   "cell_type": "code",
   "execution_count": 87,
   "id": "94e3e333-b1d1-40c0-a9c4-e787b2828bfb",
   "metadata": {},
   "outputs": [],
   "source": [
    "df.index = df['지역']"
   ]
  },
  {
   "cell_type": "code",
   "execution_count": 88,
   "id": "43714fae-b0ca-492e-a9ca-08d8683461ff",
   "metadata": {},
   "outputs": [],
   "source": [
    "df.to_csv(\"./csv/crime_generation_avg_2018.csv\", index=False)"
   ]
  }
 ],
 "metadata": {
  "kernelspec": {
   "display_name": "Python 3 (ipykernel)",
   "language": "python",
   "name": "python3"
  },
  "language_info": {
   "codemirror_mode": {
    "name": "ipython",
    "version": 3
   },
   "file_extension": ".py",
   "mimetype": "text/x-python",
   "name": "python",
   "nbconvert_exporter": "python",
   "pygments_lexer": "ipython3",
   "version": "3.12.3"
  }
 },
 "nbformat": 4,
 "nbformat_minor": 5
}
