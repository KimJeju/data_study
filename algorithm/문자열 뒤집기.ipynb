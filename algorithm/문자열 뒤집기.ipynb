{
 "cells": [
  {
   "cell_type": "code",
   "execution_count": 65,
   "id": "80ce4310-7d43-43be-b16f-90323e099bf0",
   "metadata": {},
   "outputs": [],
   "source": [
    "my_str = \"jaron\"\n",
    "answer = ''\n"
   ]
  },
  {
   "cell_type": "code",
   "execution_count": 66,
   "id": "475ee8f4-4b00-44b0-992d-d928ab0564a5",
   "metadata": {},
   "outputs": [],
   "source": [
    "def solution(my_str):\n",
    "    max_length = len(my_str) - 1\n",
    "\n",
    "    for idx in range(max_length + 1):\n",
    "        char_list.append(my_str[max_length - idx])\n",
    "        answer = ''.join(char_list)\n",
    "    return answer"
   ]
  },
  {
   "cell_type": "code",
   "execution_count": 67,
   "id": "1117d1dd-94fe-4571-841d-a04d9181cd88",
   "metadata": {},
   "outputs": [
    {
     "data": {
      "text/plain": [
       "'noraj'"
      ]
     },
     "execution_count": 67,
     "metadata": {},
     "output_type": "execute_result"
    }
   ],
   "source": [
    "solution(my_str)"
   ]
  },
  {
   "cell_type": "code",
   "execution_count": null,
   "id": "5f8e03ab-5b66-48b3-8d5e-2e6c21dde13b",
   "metadata": {},
   "outputs": [],
   "source": []
  }
 ],
 "metadata": {
  "kernelspec": {
   "display_name": "Python 3 (ipykernel)",
   "language": "python",
   "name": "python3"
  },
  "language_info": {
   "codemirror_mode": {
    "name": "ipython",
    "version": 3
   },
   "file_extension": ".py",
   "mimetype": "text/x-python",
   "name": "python",
   "nbconvert_exporter": "python",
   "pygments_lexer": "ipython3",
   "version": "3.12.3"
  }
 },
 "nbformat": 4,
 "nbformat_minor": 5
}
