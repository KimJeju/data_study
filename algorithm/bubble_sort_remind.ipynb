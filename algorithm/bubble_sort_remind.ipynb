{
 "cells": [
  {
   "cell_type": "code",
   "execution_count": 1,
   "id": "503b1ce3-45a4-4301-9ebe-1dc2b950a13a",
   "metadata": {},
   "outputs": [],
   "source": [
    "alist = [5,1,3,7]"
   ]
  },
  {
   "cell_type": "code",
   "execution_count": 11,
   "id": "18e727af-eba2-400f-87ee-3ee2ddc3a7d9",
   "metadata": {},
   "outputs": [],
   "source": [
    "def solution(alist):\n",
    "    for i in range(len(alist) - 1):\n",
    "        for j in range(len(alist) - 1):\n",
    "            if alist[j] > alist[j + 1]:\n",
    "                alist[j + 1], alist[j] = alist[j], alist[j + 1]\n",
    "    return alist"
   ]
  },
  {
   "cell_type": "code",
   "execution_count": 12,
   "id": "a3cab104-a9be-48b6-8c62-1cb7d4f215bd",
   "metadata": {},
   "outputs": [
    {
     "data": {
      "text/plain": [
       "[1, 3, 5, 7]"
      ]
     },
     "execution_count": 12,
     "metadata": {},
     "output_type": "execute_result"
    }
   ],
   "source": [
    "solution(alist)"
   ]
  }
 ],
 "metadata": {
  "kernelspec": {
   "display_name": "Python 3 (ipykernel)",
   "language": "python",
   "name": "python3"
  },
  "language_info": {
   "codemirror_mode": {
    "name": "ipython",
    "version": 3
   },
   "file_extension": ".py",
   "mimetype": "text/x-python",
   "name": "python",
   "nbconvert_exporter": "python",
   "pygments_lexer": "ipython3",
   "version": "3.12.3"
  }
 },
 "nbformat": 4,
 "nbformat_minor": 5
}
