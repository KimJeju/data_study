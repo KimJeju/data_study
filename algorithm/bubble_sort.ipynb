{
 "cells": [
  {
   "cell_type": "code",
   "execution_count": 4,
   "id": "c380329a-5574-42ab-8410-2df346531853",
   "metadata": {},
   "outputs": [],
   "source": [
    "alist = [6,5,3,1]"
   ]
  },
  {
   "cell_type": "code",
   "execution_count": 13,
   "id": "dd656332-41b8-45bd-883c-4659443497c3",
   "metadata": {},
   "outputs": [],
   "source": [
    "def bubble_sort(alist):\n",
    "    for i in range(len(alist) -1):\n",
    "        if alist[i] > alist[i + 1]:\n",
    "            alist[i], alist[i + 1] = alist[i + 1], alist[i]\n",
    "    print(alist)"
   ]
  },
  {
   "cell_type": "code",
   "execution_count": 14,
   "id": "1685d8ba-3ffc-4fca-8161-d7ce3903d65a",
   "metadata": {},
   "outputs": [
    {
     "name": "stdout",
     "output_type": "stream",
     "text": [
      "[5, 3, 1, 6]\n"
     ]
    }
   ],
   "source": [
    "bubble_sort(alist)"
   ]
  },
  {
   "cell_type": "code",
   "execution_count": null,
   "id": "9a5a7329-905a-48d5-aaf5-7169f8fa6213",
   "metadata": {},
   "outputs": [],
   "source": []
  }
 ],
 "metadata": {
  "kernelspec": {
   "display_name": "Python 3 (ipykernel)",
   "language": "python",
   "name": "python3"
  },
  "language_info": {
   "codemirror_mode": {
    "name": "ipython",
    "version": 3
   },
   "file_extension": ".py",
   "mimetype": "text/x-python",
   "name": "python",
   "nbconvert_exporter": "python",
   "pygments_lexer": "ipython3",
   "version": "3.12.3"
  }
 },
 "nbformat": 4,
 "nbformat_minor": 5
}
