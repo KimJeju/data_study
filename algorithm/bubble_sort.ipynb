{
 "cells": [
  {
   "cell_type": "code",
   "execution_count": 18,
   "id": "c380329a-5574-42ab-8410-2df346531853",
   "metadata": {},
   "outputs": [],
   "source": [
    "alist = [6,5,3,1,5,3,13]"
   ]
  },
  {
   "cell_type": "code",
   "execution_count": 23,
   "id": "dd656332-41b8-45bd-883c-4659443497c3",
   "metadata": {},
   "outputs": [],
   "source": [
    "def bubble_sort(alist):\n",
    "    for i in range(len(alist) -1):\n",
    "        for j in range(len(alist) - 1):\n",
    "            if alist[j] > alist[j + 1]:\n",
    "                alist[j], alist[j + 1] = alist[j + 1], alist[j]\n",
    "\n",
    "    print(alist)"
   ]
  },
  {
   "cell_type": "code",
   "execution_count": null,
   "id": "01d5e515-db9d-4932-9e57-7925e50ad5b8",
   "metadata": {},
   "outputs": [],
   "source": []
  }
 ],
 "metadata": {
  "kernelspec": {
   "display_name": "Python 3 (ipykernel)",
   "language": "python",
   "name": "python3"
  },
  "language_info": {
   "codemirror_mode": {
    "name": "ipython",
    "version": 3
   },
   "file_extension": ".py",
   "mimetype": "text/x-python",
   "name": "python",
   "nbconvert_exporter": "python",
   "pygments_lexer": "ipython3",
   "version": "3.12.3"
  }
 },
 "nbformat": 4,
 "nbformat_minor": 5
}
