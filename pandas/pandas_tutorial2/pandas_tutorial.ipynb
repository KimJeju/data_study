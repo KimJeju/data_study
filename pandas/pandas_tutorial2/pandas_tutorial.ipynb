{
 "cells": [
  {
   "cell_type": "code",
   "execution_count": 5,
   "id": "2659cbc8-40af-4bac-a9be-dbfa7b570f7b",
   "metadata": {},
   "outputs": [],
   "source": [
    "import pandas as pd"
   ]
  },
  {
   "cell_type": "code",
   "execution_count": 9,
   "id": "d621bb7c-a7f0-4372-82f7-e3968ee36ab0",
   "metadata": {},
   "outputs": [],
   "source": [
    "df_csv = pd.read_csv('data/friend_list.csv')"
   ]
  },
  {
   "cell_type": "code",
   "execution_count": 10,
   "id": "611c1a10-2e3f-479f-8387-ba18b56a732f",
   "metadata": {},
   "outputs": [],
   "source": [
    "df_txt = pd.read_csv('data/friend_list.txt')"
   ]
  },
  {
   "cell_type": "code",
   "execution_count": 12,
   "id": "84289cea-d396-4c04-9961-639557a17885",
   "metadata": {},
   "outputs": [],
   "source": [
    "df_txt_tab = pd.read_csv('data/friend_list_tab.txt', delimiter = '\\t')"
   ]
  },
  {
   "cell_type": "code",
   "execution_count": 24,
   "id": "cf5a0b22-7fbf-4e56-a0e0-189ea1ca8f76",
   "metadata": {},
   "outputs": [],
   "source": [
    "df_no_head = pd.read_csv('data/friend_list_no_head.csv', header = None)\n",
    "df.columns = ['name', 'age','job']\n",
    "\n",
    "# 위와 동일\n",
    "#df_no_head = pd.read_csv('data/friend_list_no_head.csv', header = None, names = ['name', 'age', 'job'])"
   ]
  },
  {
   "cell_type": "code",
   "execution_count": null,
   "id": "86eb200e-6e3c-45cc-b60a-201220ae7afe",
   "metadata": {},
   "outputs": [],
   "source": []
  }
 ],
 "metadata": {
  "kernelspec": {
   "display_name": "Python 3 (ipykernel)",
   "language": "python",
   "name": "python3"
  },
  "language_info": {
   "codemirror_mode": {
    "name": "ipython",
    "version": 3
   },
   "file_extension": ".py",
   "mimetype": "text/x-python",
   "name": "python",
   "nbconvert_exporter": "python",
   "pygments_lexer": "ipython3",
   "version": "3.12.3"
  }
 },
 "nbformat": 4,
 "nbformat_minor": 5
}
