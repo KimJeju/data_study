{
 "cells": [
  {
   "cell_type": "code",
   "execution_count": 2,
   "id": "2659cbc8-40af-4bac-a9be-dbfa7b570f7b",
   "metadata": {},
   "outputs": [],
   "source": [
    "import pandas as pd"
   ]
  },
  {
   "cell_type": "code",
   "execution_count": null,
   "id": "d621bb7c-a7f0-4372-82f7-e3968ee36ab0",
   "metadata": {},
   "outputs": [],
   "source": [
    "df = pd.read_csv('./')"
   ]
  }
 ],
 "metadata": {
  "kernelspec": {
   "display_name": "Python 3 (ipykernel)",
   "language": "python",
   "name": "python3"
  },
  "language_info": {
   "codemirror_mode": {
    "name": "ipython",
    "version": 3
   },
   "file_extension": ".py",
   "mimetype": "text/x-python",
   "name": "python",
   "nbconvert_exporter": "python",
   "pygments_lexer": "ipython3",
   "version": "3.12.3"
  }
 },
 "nbformat": 4,
 "nbformat_minor": 5
}
