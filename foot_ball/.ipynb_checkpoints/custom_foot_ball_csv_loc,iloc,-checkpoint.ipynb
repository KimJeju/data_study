{
 "cells": [
  {
   "cell_type": "code",
   "execution_count": null,
   "id": "d01fe1f4-1bec-449d-9122-b0698eee04c6",
   "metadata": {},
   "outputs": [],
   "source": [
    "import pandas as pd\n",
    "\n",
    "df= pd.read_csv(\"transfermakt50_use_before_init_list.csv\")\n",
    "\n",
    "df.shape #행열의 개수를 가져옴 : 변수형태\n",
    "\n",
    "(rows, columns) = df.shape # 튜플로 행열의 개수를 담음"
   ]
  }
 ],
 "metadata": {
  "kernelspec": {
   "display_name": "Python 3 (ipykernel)",
   "language": "python",
   "name": "python3"
  },
  "language_info": {
   "codemirror_mode": {
    "name": "ipython",
    "version": 3
   },
   "file_extension": ".py",
   "mimetype": "text/x-python",
   "name": "python",
   "nbconvert_exporter": "python",
   "pygments_lexer": "ipython3",
   "version": "3.12.3"
  }
 },
 "nbformat": 4,
 "nbformat_minor": 5
}
